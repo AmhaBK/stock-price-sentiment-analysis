{
 "cells": [
  {
   "cell_type": "code",
   "execution_count": 64,
   "id": "ac8b5c8f",
   "metadata": {},
   "outputs": [],
   "source": [
    "import sys\n",
    "import os\n",
    "\n",
    "sys.path.append(os.path.abspath(os.path.join('..')))"
   ]
  },
  {
   "cell_type": "code",
   "execution_count": 65,
   "id": "eceb62e2",
   "metadata": {},
   "outputs": [],
   "source": [
    "import pandas as pd\n",
    "import numpy as np\n",
    "from textblob import TextBlob\n",
    "import matplotlib.pyplot as plt\n",
    "import seaborn as sns\n",
    "import talib\n",
    "import pynance\n",
    "import yfinance\n",
    "import mplfinance as mpf\n",
    "from src.quantitative_analysis import StockAnalysis"
   ]
  },
  {
   "cell_type": "code",
   "execution_count": 66,
   "id": "024cf596",
   "metadata": {},
   "outputs": [],
   "source": [
    "apple = pd.read_csv(r\"..\\data\\yfinance_data\\AAPL_historical_data.csv\", parse_dates = ['Date'])\n",
    "amazon = pd.read_csv(r\"..\\data\\yfinance_data\\AMZN_historical_data.csv\", parse_dates = ['Date'])\n",
    "google = pd.read_csv(r\"..\\data\\yfinance_data\\GOOG_historical_data.csv\", parse_dates = ['Date'])\n",
    "meta = pd.read_csv(r\"..\\data\\yfinance_data\\META_historical_data.csv\", parse_dates = ['Date'])\n",
    "microsoft = pd.read_csv(r\"..\\data\\yfinance_data\\MSFT_historical_data.csv\", parse_dates = ['Date'])\n",
    "nvidia = pd.read_csv(r\"..\\data\\yfinance_data\\NVDA_historical_data.csv\", parse_dates = ['Date'])\n",
    "tesla = pd.read_csv(r\"..\\data\\yfinance_data\\TSLA_historical_data.csv\", parse_dates = ['Date'])"
   ]
  },
  {
   "cell_type": "code",
   "execution_count": 68,
   "id": "35c91650",
   "metadata": {},
   "outputs": [
    {
     "ename": "TypeError",
     "evalue": "StockAnalysis.__init__() got an unexpected keyword argument 'df'",
     "output_type": "error",
     "traceback": [
      "\u001b[31m---------------------------------------------------------------------------\u001b[39m",
      "\u001b[31mTypeError\u001b[39m                                 Traceback (most recent call last)",
      "\u001b[36mCell\u001b[39m\u001b[36m \u001b[39m\u001b[32mIn[68]\u001b[39m\u001b[32m, line 1\u001b[39m\n\u001b[32m----> \u001b[39m\u001b[32m1\u001b[39m apple_analysis = \u001b[43mStockAnalysis\u001b[49m\u001b[43m(\u001b[49m\u001b[43mticker\u001b[49m\u001b[43m \u001b[49m\u001b[43m=\u001b[49m\u001b[43m \u001b[49m\u001b[33;43m'\u001b[39;49m\u001b[33;43mAAPL\u001b[39;49m\u001b[33;43m'\u001b[39;49m\u001b[43m,\u001b[49m\u001b[43m \u001b[49m\u001b[43mdf\u001b[49m\u001b[43m=\u001b[49m\u001b[43mapple\u001b[49m\u001b[43m)\u001b[49m\n\u001b[32m      2\u001b[39m amazon_analysis = StockAnalysis(ticker = \u001b[33m'\u001b[39m\u001b[33mAMZN\u001b[39m\u001b[33m'\u001b[39m, df=amazon)\n\u001b[32m      3\u001b[39m google_analysis = StockAnalysis(ticker = \u001b[33m'\u001b[39m\u001b[33mGOOG\u001b[39m\u001b[33m'\u001b[39m, df=google)\n",
      "\u001b[31mTypeError\u001b[39m: StockAnalysis.__init__() got an unexpected keyword argument 'df'"
     ]
    }
   ],
   "source": [
    "apple_analysis = StockAnalysis(ticker = 'AAPL', df=apple)\n",
    "amazon_analysis = StockAnalysis(ticker = 'AMZN', df=amazon)\n",
    "google_analysis = StockAnalysis(ticker = 'GOOG', df=google)\n",
    "meta_analysis = StockAnalysis(ticker = 'META', df=meta)\n",
    "microsoft_analysis = StockAnalysis(ticker = 'MSFT', df=microsoft)\n",
    "nvidia_analysis = StockAnalysis(ticker = 'NVDA', df=nvidia)\n",
    "tesla_analysis = StockAnalysis(ticker = 'TSLA', df=tesla)\n"
   ]
  }
 ],
 "metadata": {
  "kernelspec": {
   "display_name": "Python 3",
   "language": "python",
   "name": "python3"
  },
  "language_info": {
   "codemirror_mode": {
    "name": "ipython",
    "version": 3
   },
   "file_extension": ".py",
   "mimetype": "text/x-python",
   "name": "python",
   "nbconvert_exporter": "python",
   "pygments_lexer": "ipython3",
   "version": "3.13.0"
  }
 },
 "nbformat": 4,
 "nbformat_minor": 5
}
